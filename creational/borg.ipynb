{
 "cells": [
  {
   "cell_type": "markdown",
   "metadata": {},
   "source": [
    "# Borg\n",
    "\n",
    "There are multiple instances that share the same state. In other words,  \n",
    "the focus is on sharing state instead of sharing instance identity.\n",
    "\n",
    "Instance attributes are stored in a attribute dictionary called __dict__.  \n",
    "Usually, each instance will have its own dictionary, but the Borg pattern  \n",
    "modifies this so that all instances have the same dictionary."
   ]
  },
  {
   "cell_type": "code",
   "execution_count": 10,
   "metadata": {},
   "outputs": [
    {
     "name": "stdout",
     "output_type": "stream",
     "text": [
      "rm1 state: init\n",
      "rm2 state: init\n",
      "\n",
      "rm1 state: running\n",
      "rm2 state: running\n",
      "\n",
      "rm1 state: init\n",
      "rm2 state: init\n",
      "rm3 state: init\n"
     ]
    }
   ],
   "source": [
    "class Borg(object):\n",
    "    __shared_state = {}\n",
    "    def __init__(self):\n",
    "        self.__dict__ = self.__shared_state\n",
    "        self.state = 'init'\n",
    "    def __str__(self):\n",
    "        return self.state\n",
    "    \n",
    "class OtherBorg(Borg):\n",
    "    pass\n",
    "    \n",
    "rm1 = Borg()\n",
    "rm2 = Borg()\n",
    "\n",
    "print(f\"rm1 state: {rm1}\")\n",
    "print(f\"rm2 state: {rm2}\")\n",
    "print()\n",
    "\n",
    "rm1.state = 'idle'\n",
    "rm2.state = 'running'\n",
    "\n",
    "print(f\"rm1 state: {rm1}\")\n",
    "print(f\"rm2 state: {rm2}\")\n",
    "print()\n",
    "\n",
    "rm3 = OtherBorg()\n",
    "print(f\"rm1 state: {rm1}\")\n",
    "print(f\"rm2 state: {rm2}\")\n",
    "print(f\"rm3 state: {rm3}\")"
   ]
  },
  {
   "cell_type": "code",
   "execution_count": null,
   "metadata": {},
   "outputs": [],
   "source": []
  }
 ],
 "metadata": {
  "kernelspec": {
   "display_name": "Python 3",
   "language": "python",
   "name": "python3"
  },
  "language_info": {
   "codemirror_mode": {
    "name": "ipython",
    "version": 3
   },
   "file_extension": ".py",
   "mimetype": "text/x-python",
   "name": "python",
   "nbconvert_exporter": "python",
   "pygments_lexer": "ipython3",
   "version": "3.6.8"
  }
 },
 "nbformat": 4,
 "nbformat_minor": 2
}
