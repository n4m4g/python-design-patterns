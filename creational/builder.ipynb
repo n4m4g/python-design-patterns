{
 "cells": [
  {
   "cell_type": "markdown",
   "metadata": {},
   "source": [
    "# Builder\n",
    "\n",
    "It decouples the creation of a complex object and its representation.  \n",
    "\n",
    "The first example achieves this by using an abstract base  \n",
    "class for a building, where **the initializer (__init__ method) specifies the  \n",
    "steps needed, and the concrete subclasses implement these steps**."
   ]
  },
  {
   "cell_type": "code",
   "execution_count": 2,
   "metadata": {},
   "outputs": [
    {
     "name": "stdout",
     "output_type": "stream",
     "text": [
      "Floor: One, Size: Big\n",
      "Floor: More than one, Size: Small\n"
     ]
    }
   ],
   "source": [
    "class Building(object):\n",
    "    def __init__(self):\n",
    "        self.build_floor()\n",
    "        self.build_size()\n",
    "    def build_floor(self):\n",
    "        raise NotImplementedError\n",
    "    def build_size(self):\n",
    "        raise NotImplementedError\n",
    "    def __repr__(self):\n",
    "        return f\"Floor: {self.floor}, Size: {self.size}\"\n",
    "        \n",
    "class House(Building):\n",
    "    def build_floor(self):\n",
    "        self.floor = \"One\"\n",
    "    def build_size(self):\n",
    "        self.size = \"Big\"\n",
    "        \n",
    "class Flat(Building):\n",
    "    def build_floor(self):\n",
    "        self.floor = \"More than one\"\n",
    "    def build_size(self):\n",
    "        self.size = \"Small\"\n",
    "        \n",
    "house = House()\n",
    "flat = Flat()\n",
    "print(house)\n",
    "print(flat)"
   ]
  },
  {
   "cell_type": "code",
   "execution_count": null,
   "metadata": {},
   "outputs": [],
   "source": []
  }
 ],
 "metadata": {
  "kernelspec": {
   "display_name": "Python 3",
   "language": "python",
   "name": "python3"
  },
  "language_info": {
   "codemirror_mode": {
    "name": "ipython",
    "version": 3
   },
   "file_extension": ".py",
   "mimetype": "text/x-python",
   "name": "python",
   "nbconvert_exporter": "python",
   "pygments_lexer": "ipython3",
   "version": "3.6.8"
  }
 },
 "nbformat": 4,
 "nbformat_minor": 2
}
