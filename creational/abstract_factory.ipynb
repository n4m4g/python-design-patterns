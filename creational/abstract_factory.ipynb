{
 "cells": [
  {
   "cell_type": "markdown",
   "metadata": {},
   "source": [
    "# Abstract_factory\n",
    "\n",
    "This particular implementation **abstracts the creation of a pet** and  \n",
    "does so depending on the factory we chose (Dog or Cat, or random_animal)  \n",
    "This works because both Dog/Cat and random_animal **respect a common  \n",
    "interface (callable for creation and .speak())**."
   ]
  },
  {
   "cell_type": "code",
   "execution_count": 8,
   "metadata": {},
   "outputs": [
    {
     "name": "stdout",
     "output_type": "stream",
     "text": [
      "Pet: Cat.\n",
      "It says meow.\n",
      "\n",
      "Pet: Dog.\n",
      "It says woof.\n",
      "Pet: Dog.\n",
      "It says woof.\n",
      "Pet: Cat.\n",
      "It says meow.\n"
     ]
    }
   ],
   "source": [
    "import random\n",
    "\n",
    "class Petshop(object):\n",
    "    def __init__(self, animal):\n",
    "        self.animal = animal\n",
    "    def show_pet(self):\n",
    "        pet = self.animal()\n",
    "        print(f\"Pet: {pet}.\")\n",
    "        print(f\"It says {pet.speak()}.\")\n",
    "\n",
    "class Cat(object):\n",
    "    def __str__(self):\n",
    "        return \"Cat\"\n",
    "    def speak(self):\n",
    "        return \"meow\"\n",
    "\n",
    "class Dog(object):\n",
    "    def __str__(self):\n",
    "        return \"Dog\"\n",
    "    def speak(self):\n",
    "        return \"woof\"\n",
    "\n",
    "def random_pet():\n",
    "    return random.choice([Dog, Cat])()\n",
    "    \n",
    "cat_shop = Petshop(Cat)\n",
    "cat_shop.show_pet()\n",
    "\n",
    "print()\n",
    "\n",
    "for i in range(3):\n",
    "    shop = Petshop(random_pet)\n",
    "    shop.show_pet()"
   ]
  }
 ],
 "metadata": {
  "kernelspec": {
   "display_name": "Python 3",
   "language": "python",
   "name": "python3"
  },
  "language_info": {
   "codemirror_mode": {
    "name": "ipython",
    "version": 3
   },
   "file_extension": ".py",
   "mimetype": "text/x-python",
   "name": "python",
   "nbconvert_exporter": "python",
   "pygments_lexer": "ipython3",
   "version": "3.6.8"
  }
 },
 "nbformat": 4,
 "nbformat_minor": 2
}
