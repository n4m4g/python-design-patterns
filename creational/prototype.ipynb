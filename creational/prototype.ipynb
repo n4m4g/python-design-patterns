{
 "cells": [
  {
   "cell_type": "markdown",
   "metadata": {},
   "source": [
    "# Prototype\n",
    "\n",
    "Instead of relying on subclasses it creates objects by  \n",
    "**copying a prototypical instance at run-time**.\n",
    "\n",
    "This is useful as it make it easier to derive new kinds of objects,  \n",
    "when instances of the class have only a few different combinations of  \n",
    "state, and when instantiation is expensive."
   ]
  },
  {
   "cell_type": "code",
   "execution_count": 2,
   "metadata": {},
   "outputs": [
    {
     "name": "stdout",
     "output_type": "stream",
     "text": [
      "obj-a value-a\n",
      "obj-b value-b\n",
      "default default\n"
     ]
    }
   ],
   "source": [
    "class Prototype(object):\n",
    "    value = 'default'\n",
    "    def clone(self, **attr):\n",
    "        obj = self.__class__()\n",
    "        obj.__dict__.update(attr)\n",
    "        return obj\n",
    "    \n",
    "class PrototypeDispatcher(object):\n",
    "    def __init__(self):\n",
    "        self._objects = {}\n",
    "    def get_objects(self):\n",
    "        return self._objects\n",
    "    def register_object(self, name, obj):\n",
    "        self._objects[name] = obj\n",
    "    def unregister_object(self, name):\n",
    "        del self._objects[name]\n",
    "        \n",
    "dispatcher = PrototypeDispatcher()\n",
    "prototype = Prototype()\n",
    "\n",
    "d = prototype.clone()\n",
    "a = prototype.clone(value=\"value-a\")\n",
    "b = prototype.clone(value=\"value-b\")\n",
    "\n",
    "dispatcher.register_object('obj-a', a)\n",
    "dispatcher.register_object('obj-b', b)\n",
    "dispatcher.register_object('default', d)\n",
    "\n",
    "for k, v in dispatcher.get_objects().items():\n",
    "    print(k, v.value)"
   ]
  },
  {
   "cell_type": "code",
   "execution_count": null,
   "metadata": {},
   "outputs": [],
   "source": []
  }
 ],
 "metadata": {
  "kernelspec": {
   "display_name": "Python 3",
   "language": "python",
   "name": "python3"
  },
  "language_info": {
   "codemirror_mode": {
    "name": "ipython",
    "version": 3
   },
   "file_extension": ".py",
   "mimetype": "text/x-python",
   "name": "python",
   "nbconvert_exporter": "python",
   "pygments_lexer": "ipython3",
   "version": "3.6.8"
  }
 },
 "nbformat": 4,
 "nbformat_minor": 2
}
