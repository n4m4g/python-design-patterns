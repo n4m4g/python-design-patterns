{
 "cells": [
  {
   "cell_type": "markdown",
   "metadata": {},
   "source": [
    "# Factory\n",
    "\n",
    "The code does not have to worry about which  \n",
    "localizer will be instantiated, since the method \"localize\" will be called  \n",
    "in the same way independently of the language."
   ]
  },
  {
   "cell_type": "code",
   "execution_count": 1,
   "metadata": {},
   "outputs": [
    {
     "name": "stdout",
     "output_type": "stream",
     "text": [
      "dog σκύλος\n",
      "parrot parrot\n",
      "cat γάτα\n",
      "bear bear\n"
     ]
    }
   ],
   "source": [
    "class GreekLocalizer(object):\n",
    "    def __init__(self):\n",
    "        self.translations = {\"dog\": \"σκύλος\", \"cat\": \"γάτα\"}\n",
    "    def localize(self, msg):\n",
    "        return self.translations.get(msg, msg)\n",
    "    \n",
    "class EnglishLocalizer(object):\n",
    "    def localize(self, msg):\n",
    "        return msg\n",
    "    \n",
    "def get_localizer(lang=\"English\"):\n",
    "    localizers = {\n",
    "        \"English\": EnglishLocalizer,\n",
    "        \"Greek\": GreekLocalizer\n",
    "    }\n",
    "    return localizers[lang]()\n",
    "\n",
    "e, g = get_localizer(\"English\"), get_localizer(\"Greek\")\n",
    "\n",
    "for msg in \"dog parrot cat bear\".split():\n",
    "    print(e.localize(msg), g.localize(msg))"
   ]
  }
 ],
 "metadata": {
  "kernelspec": {
   "display_name": "Python 3",
   "language": "python",
   "name": "python3"
  },
  "language_info": {
   "codemirror_mode": {
    "name": "ipython",
    "version": 3
   },
   "file_extension": ".py",
   "mimetype": "text/x-python",
   "name": "python",
   "nbconvert_exporter": "python",
   "pygments_lexer": "ipython3",
   "version": "3.6.8"
  }
 },
 "nbformat": 4,
 "nbformat_minor": 2
}
