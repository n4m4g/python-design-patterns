{
 "cells": [
  {
   "cell_type": "markdown",
   "metadata": {},
   "source": [
    "# Pool\n",
    "\n",
    "The first string object put in \"yam\" is USED by the  \n",
    "with statement. But because **it is released back into the pool  \n",
    "afterwards it is reused by the explicit call to sample_queue.get()**.  \n",
    "\n",
    "Same thing happens with \"sam\", when **the ObjectPool created insided the  \n",
    "function is deleted (by the GC) and the object is returned**.\n",
    "\n",
    "Reference: https://www.itread01.com/content/1537205909.html"
   ]
  },
  {
   "cell_type": "code",
   "execution_count": 4,
   "metadata": {},
   "outputs": [
    {
     "name": "stdout",
     "output_type": "stream",
     "text": [
      "Inside with: yam\n",
      "Outside with: yam\n",
      "Inside function: sam\n",
      "Outside function: sam\n"
     ]
    }
   ],
   "source": [
    "import queue\n",
    "\n",
    "class Objectqueue(object):\n",
    "    def __init__(self, queue, auto_get=False):\n",
    "        self._queue = queue\n",
    "        self.item = self._queue.get() if auto_get else None\n",
    "\n",
    "    def __enter__(self):\n",
    "        if self.item is None:\n",
    "            self.item = self._queue.get()\n",
    "        return self.item\n",
    "    \n",
    "    def __exit__(self, Type, value, traceback):\n",
    "        if self.item is not None:\n",
    "            self._queue.put(self.item)\n",
    "            self.item = None\n",
    "            \n",
    "    def __del__(self):\n",
    "        if self.item is not None:\n",
    "            self._queue.put(self.item)\n",
    "            self.item = None\n",
    "\n",
    "q = queue.Queue()\n",
    "\n",
    "q.put('yam')\n",
    "with Objectqueue(q) as obj:\n",
    "    print(f\"Inside with: {obj}\")\n",
    "print(f\"Outside with: {q.get()}\")\n",
    "\n",
    "def test_object(q):\n",
    "    pool = Objectqueue(q, True)\n",
    "    print(f\"Inside function: {pool.item}\")\n",
    "\n",
    "q.put('sam')\n",
    "test_object(q)\n",
    "print(f\"Outside function: {q.get()}\")\n",
    "\n",
    "if not q.empty():\n",
    "    print(q.get())"
   ]
  }
 ],
 "metadata": {
  "kernelspec": {
   "display_name": "Python 3",
   "language": "python",
   "name": "python3"
  },
  "language_info": {
   "codemirror_mode": {
    "name": "ipython",
    "version": 3
   },
   "file_extension": ".py",
   "mimetype": "text/x-python",
   "name": "python",
   "nbconvert_exporter": "python",
   "pygments_lexer": "ipython3",
   "version": "3.6.8"
  }
 },
 "nbformat": 4,
 "nbformat_minor": 2
}
