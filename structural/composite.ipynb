{
 "cells": [
  {
   "cell_type": "markdown",
   "metadata": {},
   "source": [
    "# Composite\n",
    "\n",
    "The composite pattern describes a group of objects that is treated the  \n",
    "same way as a single instance of the same type of object.\n",
    "\n",
    "Implementing the composite pattern lets clients  \n",
    "treat individual objects and compositions uniformly."
   ]
  },
  {
   "cell_type": "code",
   "execution_count": 2,
   "metadata": {},
   "outputs": [
    {
     "name": "stdout",
     "output_type": "stream",
     "text": [
      "Ellipse: 1\n",
      "Ellipse: 2\n",
      "Ellipse: 3\n",
      "Ellipse: 4\n"
     ]
    }
   ],
   "source": [
    "class Graphic(object):\n",
    "    def render(self):\n",
    "        raise NotImplementedError(\"You should implement this.\")\n",
    "        \n",
    "class CompositeGraphic(Graphic):\n",
    "    def __init__(self):\n",
    "        self.graphics = []\n",
    "        \n",
    "    def render(self):\n",
    "        for graphic in self.graphics:\n",
    "            graphic.render()\n",
    "            \n",
    "    def add(self, graphic):\n",
    "        self.graphics.append(graphic)\n",
    "        \n",
    "    def remove(self, graphic):\n",
    "        self.graphics.remove(graphic)\n",
    "        \n",
    "class Ellipse(Graphic):\n",
    "    def __init__(self, name):\n",
    "        self.name = name\n",
    "        \n",
    "    def render(self):\n",
    "        print(f\"Ellipse: {self.name}\")\n",
    "        \n",
    "e1 = Ellipse(\"1\")\n",
    "e2 = Ellipse(\"2\")\n",
    "e3 = Ellipse(\"3\")\n",
    "e4 = Ellipse(\"4\")\n",
    "\n",
    "graphic1 = CompositeGraphic()\n",
    "graphic2 = CompositeGraphic()\n",
    "\n",
    "graphic1.add(e1)\n",
    "graphic1.add(e2)\n",
    "graphic1.add(e3)\n",
    "graphic2.add(e4)\n",
    "\n",
    "graphic = CompositeGraphic()\n",
    "graphic.add(graphic1)\n",
    "graphic.add(graphic2)\n",
    "\n",
    "graphic.render()"
   ]
  },
  {
   "cell_type": "code",
   "execution_count": null,
   "metadata": {},
   "outputs": [],
   "source": []
  }
 ],
 "metadata": {
  "kernelspec": {
   "display_name": "Python 3",
   "language": "python",
   "name": "python3"
  },
  "language_info": {
   "codemirror_mode": {
    "name": "ipython",
    "version": 3
   },
   "file_extension": ".py",
   "mimetype": "text/x-python",
   "name": "python",
   "nbconvert_exporter": "python",
   "pygments_lexer": "ipython3",
   "version": "3.6.8"
  }
 },
 "nbformat": 4,
 "nbformat_minor": 2
}
