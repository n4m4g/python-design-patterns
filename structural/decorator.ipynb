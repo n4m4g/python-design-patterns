{
 "cells": [
  {
   "cell_type": "markdown",
   "metadata": {},
   "source": [
    "# Decorator\n",
    "\n",
    "The Decorator pattern is used to dynamically add a new feature to an  \n",
    "object without changing its implementation.\n",
    "\n",
    "This example shows a way to add formatting options (boldface and  \n",
    "italic) to a text by appending the corresponding tags.  \n",
    "Also, we can see that decorators can be applied one after the other,  \n",
    "since the original text is passed to the bold wrapper, which in turn  \n",
    "is passed to the italic wrapper."
   ]
  },
  {
   "cell_type": "code",
   "execution_count": 3,
   "metadata": {},
   "outputs": [
    {
     "name": "stdout",
     "output_type": "stream",
     "text": [
      "hello world\n",
      "<i><b>hello world</b></i>\n"
     ]
    }
   ],
   "source": [
    "class TextTag(object):\n",
    "    def __init__(self, text):\n",
    "        self._text = text\n",
    "    def render(self):\n",
    "        return self._text\n",
    "    \n",
    "class BoldWrapper():\n",
    "    def __init__(self, wrapped):\n",
    "        self._wrapped = wrapped\n",
    "    def render(self):\n",
    "        return f\"<b>{self._wrapped.render()}</b>\"\n",
    "\n",
    "class ItalicWrapper():\n",
    "    def __init__(self, wrapped):\n",
    "        self._wrapped = wrapped\n",
    "    def render(self):\n",
    "        return f\"<i>{self._wrapped.render()}</i>\"\n",
    "    \n",
    "hello = TextTag('hello world')\n",
    "wrapped_hello = ItalicWrapper(BoldWrapper(hello))\n",
    "\n",
    "print(hello.render())\n",
    "print(wrapped_hello.render())"
   ]
  }
 ],
 "metadata": {
  "kernelspec": {
   "display_name": "Python 3",
   "language": "python",
   "name": "python3"
  },
  "language_info": {
   "codemirror_mode": {
    "name": "ipython",
    "version": 3
   },
   "file_extension": ".py",
   "mimetype": "text/x-python",
   "name": "python",
   "nbconvert_exporter": "python",
   "pygments_lexer": "ipython3",
   "version": "3.6.8"
  }
 },
 "nbformat": 4,
 "nbformat_minor": 2
}
