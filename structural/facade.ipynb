{
 "cells": [
  {
   "cell_type": "markdown",
   "metadata": {},
   "source": [
    "# Facade\n",
    "\n",
    "The Facade pattern is a way to provide a simpler unified interface to  \n",
    "a more complex system. It provides an easier way to access functions  \n",
    "of the underlying system by providing a single entry point.  \n",
    "This kind of abstraction is seen in many real life situations. For  \n",
    "example, we can turn on a computer by just pressing a button, but in  \n",
    "fact there are many procedures and operations done when that happens  \n",
    "(e.g., loading programs from disk to memory). In this case, the button  \n",
    "serves as an unified interface to all the underlying procedures to  \n",
    "turn on a computer."
   ]
  },
  {
   "cell_type": "code",
   "execution_count": 3,
   "metadata": {},
   "outputs": [
    {
     "name": "stdout",
     "output_type": "stream",
     "text": [
      "freeze\n",
      "loading from 0x00, data: some data from sector 100 with size 1024\n",
      "jump to 0x00\n",
      "execute\n"
     ]
    }
   ],
   "source": [
    "class CPU():\n",
    "    def freeze(self):\n",
    "        print('freeze')\n",
    "    def jump(self, position):\n",
    "        print(f'jump to {position}')\n",
    "    def execute(self):\n",
    "        print('execute')\n",
    "        \n",
    "class Memory():\n",
    "    def load(self, position, data):\n",
    "        print(f'loading from {position}, data: {data}')\n",
    "    \n",
    "class Ssd():\n",
    "    def read(self, lba, size):\n",
    "        return f'some data from sector {lba} with size {size}'\n",
    "        \n",
    "class Computerfacade():\n",
    "    def __init__(self):\n",
    "        self.cpu = CPU()\n",
    "        self.memory = Memory()\n",
    "        self.ssd = Ssd()\n",
    "    def start(self):\n",
    "        self.cpu.freeze()\n",
    "        self.memory.load('0x00', self.ssd.read('100', '1024'))\n",
    "        self.cpu.jump('0x00')\n",
    "        self.cpu.execute()\n",
    "        \n",
    "computer_facade = Computerfacade()\n",
    "computer_facade.start()"
   ]
  }
 ],
 "metadata": {
  "kernelspec": {
   "display_name": "Python 3",
   "language": "python",
   "name": "python3"
  },
  "language_info": {
   "codemirror_mode": {
    "name": "ipython",
    "version": 3
   },
   "file_extension": ".py",
   "mimetype": "text/x-python",
   "name": "python",
   "nbconvert_exporter": "python",
   "pygments_lexer": "ipython3",
   "version": "3.6.8"
  }
 },
 "nbformat": 4,
 "nbformat_minor": 2
}
