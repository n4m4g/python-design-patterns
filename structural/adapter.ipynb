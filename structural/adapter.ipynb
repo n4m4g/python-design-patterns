{
 "cells": [
  {
   "cell_type": "markdown",
   "metadata": {},
   "source": [
    "# Adapter\n",
    "\n",
    "The Adapter pattern provides a different interface for a class. We can  \n",
    "think about it as a cable adapter that allows you to charge a phone  \n",
    "somewhere that has outlets in a different shape. Following this idea,  \n",
    "the Adapter pattern is useful to integrate classes that couldn't be  \n",
    "integrated due to their incompatible interfaces.\n",
    "\n",
    "The example has classes that represent entities (Dog, Cat, Human, Car)  \n",
    "that make different noises. The Adapter class provides a different  \n",
    "interface to the original methods that make such noises. So the  \n",
    "original interfaces (e.g., bark and meow) are available under a  \n",
    "different name: make_noise."
   ]
  },
  {
   "cell_type": "code",
   "execution_count": 6,
   "metadata": {},
   "outputs": [
    {
     "name": "stdout",
     "output_type": "stream",
     "text": [
      "A Dog goes woof!\n",
      "A Cat goes meow!\n",
      "A Car goes vroom!!!\n"
     ]
    }
   ],
   "source": [
    "class Dog(object):\n",
    "    def __init__(self):\n",
    "        self.name = 'Dog'\n",
    "        \n",
    "    def bark(self):\n",
    "        return 'woof!'\n",
    "    \n",
    "class Cat(object):\n",
    "    def __init__(self):\n",
    "        self.name = 'Cat'\n",
    "        \n",
    "    def meow(self):\n",
    "        return 'meow!'\n",
    "    \n",
    "class Car(object):\n",
    "    def __init__(self):\n",
    "        self.name = 'Car'\n",
    "        \n",
    "    def make_noise(self, octane_level):\n",
    "        return 'vroom{}'.format(\"!\" * octane_level)\n",
    "    \n",
    "class Adapter(object):\n",
    "    def __init__(self, obj, **adapted_methods):\n",
    "        self.obj = obj\n",
    "        self.__dict__.update(adapted_methods)\n",
    "        \n",
    "    def __getattr__(self, attr):\n",
    "        return getattr(self.obj, attr)\n",
    "    \n",
    "    def original_dict(self):\n",
    "        return self.obj.__dict__\n",
    "    \n",
    "objects = []\n",
    "dog = Dog()\n",
    "cat = Cat()\n",
    "car = Car()\n",
    "objects.append(Adapter(dog, make_noise=dog.bark))\n",
    "objects.append(Adapter(cat, make_noise=cat.meow))\n",
    "objects.append(Adapter(car, make_noise=lambda: car.make_noise(3)))\n",
    "\n",
    "for obj in objects:\n",
    "    print(f\"A {obj.name} goes {obj.make_noise()}\")"
   ]
  }
 ],
 "metadata": {
  "kernelspec": {
   "display_name": "Python 3",
   "language": "python",
   "name": "python3"
  },
  "language_info": {
   "codemirror_mode": {
    "name": "ipython",
    "version": 3
   },
   "file_extension": ".py",
   "mimetype": "text/x-python",
   "name": "python",
   "nbconvert_exporter": "python",
   "pygments_lexer": "ipython3",
   "version": "3.6.8"
  }
 },
 "nbformat": 4,
 "nbformat_minor": 2
}
