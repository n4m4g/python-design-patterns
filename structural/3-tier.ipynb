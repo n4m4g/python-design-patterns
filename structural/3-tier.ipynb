{
 "cells": [
  {
   "cell_type": "markdown",
   "metadata": {},
   "source": [
    "# 3-tier\n",
    "\n",
    "Separates presentation, application processing, and data management functions.\n",
    "\n",
    "reference: https://shunnien.github.io/2017/07/29/3-tier-and-mvc-introduction/"
   ]
  },
  {
   "cell_type": "code",
   "execution_count": 3,
   "metadata": {},
   "outputs": [
    {
     "name": "stdout",
     "output_type": "stream",
     "text": [
      "PRODUCT LIST:\n",
      "(Fetching from Data Store)\n",
      "milk\n",
      "eggs\n",
      "cheese\n",
      "\n",
      "(Fetching from Data Store)\n",
      "PRODUCT INFORMATION:\n",
      "Name: Cheese, Price: 2.00, Quantity: 50\n",
      "(Fetching from Data Store)\n",
      "PRODUCT INFORMATION:\n",
      "Name: Eggs, Price: 0.20, Quantity: 100\n",
      "(Fetching from Data Store)\n",
      "PRODUCT INFORMATION:\n",
      "Name: Milk, Price: 1.50, Quantity: 10\n",
      "(Fetching from Data Store)\n",
      "That product \"arepas\" does not exist in the records\n"
     ]
    }
   ],
   "source": [
    "class Data(object):\n",
    "    products = {\n",
    "        'milk': {'price': 1.5, 'quantity': 10},\n",
    "        'eggs': {'price': 0.2, 'quantity': 100},\n",
    "        'cheese': {'price': 2.0, 'quantity': 50},\n",
    "    }\n",
    "    \n",
    "    def __get__(self, obj, klas):\n",
    "        print(\"(Fetching from Data Store)\")\n",
    "        return {'products': self.products}\n",
    "    \n",
    "\n",
    "class BusinessLogic(object):\n",
    "    data = Data()\n",
    "    \n",
    "    def product_list(self):\n",
    "        return self.data['products'].keys()\n",
    "    \n",
    "    def product_information(self, product):\n",
    "        return self.data['products'].get(product, None)\n",
    "    \n",
    "\n",
    "class Ui(object):\n",
    "    def __init__(self):\n",
    "        self.business_logic = BusinessLogic()\n",
    "        \n",
    "    def get_product_list(self):\n",
    "        print('PRODUCT LIST:')\n",
    "        for product in self.business_logic.product_list():\n",
    "            print(product)\n",
    "        print('')\n",
    "        \n",
    "    def get_product_information(self, product):\n",
    "        product_info = self.business_logic.product_information(product)\n",
    "        if product_info:\n",
    "            print('PRODUCT INFORMATION:')\n",
    "            print(\n",
    "                \"Name: {0}, Price: {1:.2f}, Quantity: {2}\".format(\n",
    "                    product.title(), product_info.get('price', 0), product_info.get('quantity', 0)\n",
    "                )\n",
    "            )\n",
    "        else:\n",
    "            print('That product \"{0}\" does not exist in the records'.format(product))\n",
    "\n",
    "            \n",
    "ui = Ui()\n",
    "ui.get_product_list()\n",
    "ui.get_product_information('cheese')\n",
    "ui.get_product_information('eggs')\n",
    "ui.get_product_information('milk')\n",
    "ui.get_product_information('arepas')"
   ]
  },
  {
   "cell_type": "code",
   "execution_count": 4,
   "metadata": {},
   "outputs": [
    {
     "name": "stdout",
     "output_type": "stream",
     "text": [
      "milk egg \n",
      "egg\n",
      "price 30\n",
      "quantity 2\n"
     ]
    }
   ],
   "source": [
    "class Data(object):\n",
    "    products = {\n",
    "        'milk': {'price': 20, 'quantity': 1},\n",
    "        'egg': {'price': 30, 'quantity': 2}\n",
    "    }\n",
    "    def __get__(self, instance, owner):\n",
    "        return {'products': self.products}\n",
    "    \n",
    "class BusinessLogic(object):\n",
    "    data = Data()\n",
    "    \n",
    "    def product_list(self):\n",
    "        return self.data['products'].keys()\n",
    "    \n",
    "    def product_info(self, product):\n",
    "        return self.data['products'].get(product, None)\n",
    "    \n",
    "class Ui(object):\n",
    "    def __init__(self):\n",
    "        self.business_logic = BusinessLogic()\n",
    "        \n",
    "    def get_product_list(self):\n",
    "        for i in self.business_logic.product_list():\n",
    "            print(i, end=' ')\n",
    "        print()\n",
    "    \n",
    "    def get_product_info(self, product):\n",
    "        product_info = self.business_logic.product_info(product)\n",
    "        print(product)\n",
    "        for k, v in product_info.items():\n",
    "            print(k, v)\n",
    "            \n",
    "            \n",
    "ui = Ui()\n",
    "ui.get_product_list()\n",
    "ui.get_product_info('egg')"
   ]
  },
  {
   "cell_type": "code",
   "execution_count": null,
   "metadata": {},
   "outputs": [],
   "source": []
  }
 ],
 "metadata": {
  "kernelspec": {
   "display_name": "Python 3",
   "language": "python",
   "name": "python3"
  },
  "language_info": {
   "codemirror_mode": {
    "name": "ipython",
    "version": 3
   },
   "file_extension": ".py",
   "mimetype": "text/x-python",
   "name": "python",
   "nbconvert_exporter": "python",
   "pygments_lexer": "ipython3",
   "version": "3.6.8"
  }
 },
 "nbformat": 4,
 "nbformat_minor": 2
}
